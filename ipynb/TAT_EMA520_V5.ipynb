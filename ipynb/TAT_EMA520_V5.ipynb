{
  "nbformat": 4,
  "nbformat_minor": 0,
  "metadata": {
    "colab": {
      "provenance": [],
      "authorship_tag": "ABX9TyOTQhwzj9jVqm6gf8HDfG4I",
      "include_colab_link": true
    },
    "kernelspec": {
      "name": "python3",
      "display_name": "Python 3"
    },
    "language_info": {
      "name": "python"
    }
  },
  "cells": [
    {
      "cell_type": "markdown",
      "metadata": {
        "id": "view-in-github",
        "colab_type": "text"
      },
      "source": [
        "<a href=\"https://colab.research.google.com/github/breyer/tat/blob/main/TAT_EMA520_V5.ipynb\" target=\"_parent\"><img src=\"https://colab.research.google.com/assets/colab-badge.svg\" alt=\"Open In Colab\"/></a>"
      ]
    },
    {
      "cell_type": "markdown",
      "source": [
        "**Data is based on the following backtest for the period from 1/1/2023 to 6/23/2023:**\n",
        "\n",
        "https://tradeautomationtoolbox.com/byob-ticks/?save=eLwvpkg\n",
        "\n",
        "I would love to get feedback ...\n",
        "\n"
      ],
      "metadata": {
        "id": "s-mchuKTEmkD"
      }
    },
    {
      "cell_type": "code",
      "execution_count": null,
      "metadata": {
        "id": "8F_vbCNi737y",
        "colab": {
          "base_uri": "https://localhost:8080/"
        },
        "outputId": "c39711cc-f644-4236-c26e-b1af3b56ed28"
      },
      "outputs": [
        {
          "output_type": "stream",
          "name": "stdout",
          "text": [
            "rm: cannot remove '*.html': No such file or directory\n",
            "rm: cannot remove '*.zip': No such file or directory\n",
            "<p>Average profit per 90 trading day: 455.96</p>\n",
            "\n",
            "<p>Average profit per 60 trading day: 555.42</p>\n",
            "\n",
            "<p>Average profit per 45 trading day: 492.89</p>\n",
            "\n",
            "<p>Average profit per 30 trading day: 552.77</p>\n",
            "\n",
            "<p>Average profit per 20 trading day: 695.65</p>\n",
            "\n",
            "<p>Average profit per 15 trading day: 727.13</p>\n",
            "\n",
            "<p>Average profit per 10 trading day: 695.3</p>\n",
            "\n",
            "<p>Average profit per 5 trading day: 1017.8</p>\n",
            "\n"
          ]
        }
      ],
      "source": [
        "import pandas as pd\n",
        "import matplotlib.pyplot as plt\n",
        "import seaborn as sns\n",
        "from matplotlib.colors import ListedColormap\n",
        "from datetime import datetime\n",
        "\n",
        "!rm *.png *.html *.zip\n",
        "\n",
        "def top_trading_times_and_avg_profit_per_day(df, n=3):\n",
        "    df['EntryHourMinute'] = df['EntryTime'].dt.strftime('%H:%M')\n",
        "    profit_per_time = df.groupby('EntryHourMinute')['ProfitLossAfterSlippage'].sum()*100\n",
        "    top_times = profit_per_time.nlargest(n).reset_index()\n",
        "    top_times['EntryHourMinute'] = top_times['EntryHourMinute'].apply(lambda x: datetime.strptime(x, '%H:%M'))\n",
        "    top_times = top_times.sort_values('EntryHourMinute')\n",
        "    time_str = ' ; '.join(top_times['EntryHourMinute'].dt.strftime('%H:%M'))\n",
        "\n",
        "    unique_days = days # number of unique trading days\n",
        "    avg_profit_per_day = top_times['ProfitLossAfterSlippage'].sum() / unique_days # compute average profit per day\n",
        "    avg_profit_per_day = round(avg_profit_per_day, 2)  # Round to 2 decimal places\n",
        "\n",
        "    return time_str, avg_profit_per_day\n",
        "\n",
        "\n",
        "def filter_data(df, days):\n",
        "    end_date = df['EntryTime'].max()\n",
        "    start_date = end_date - pd.DateOffset(days=days)\n",
        "    return df.loc[(df['EntryTime'] >= start_date) & (df['EntryTime'] <= end_date)].copy()\n",
        "\n",
        "def rank_trading_days(df):\n",
        "    profit_per_day = df.groupby('EntryDayOfWeek')['ProfitLossAfterSlippage'].sum()*100\n",
        "    return profit_per_day.sort_values(ascending=False)\n",
        "\n",
        "def rank_trading_times(df):\n",
        "    df['EntryHourMinute'] = df['EntryTime'].dt.strftime('%H:%M')\n",
        "    profit_per_time = df.groupby('EntryHourMinute')['ProfitLossAfterSlippage'].sum()*100\n",
        "    return profit_per_time.sort_values(ascending=False)\n",
        "\n",
        "\n",
        "def top_trading_times(df, n=3):\n",
        "    df['EntryHourMinute'] = df['EntryTime'].dt.strftime('%H:%M')\n",
        "    profit_per_time = df.groupby('EntryHourMinute')['ProfitLossAfterSlippage'].sum()*100\n",
        "    top_times = profit_per_time.nlargest(n).reset_index()  # Get a DataFrame with EntryHourMinute as a column\n",
        "    top_times['EntryHourMinute'] = top_times['EntryHourMinute'].apply(lambda x: datetime.strptime(x, '%H:%M'))  # Convert to datetime for sorting\n",
        "    top_times = top_times.sort_values('EntryHourMinute')  # Sort by time\n",
        "    time_str = ' ; '.join(top_times['EntryHourMinute'].dt.strftime('%H:%M'))  # Convert back to string\n",
        "    return time_str\n",
        "\n",
        "def plot_heatmap(df, title, filename):\n",
        "    df['EntryHour'] = df['EntryTime'].dt.hour\n",
        "    df['EntryMinute'] = df['EntryTime'].dt.minute\n",
        "    pivot_table = df.pivot_table(index='EntryHour', columns='EntryMinute', values='ProfitLossAfterSlippage', aggfunc='sum', fill_value=0)\n",
        "\n",
        "    colors = sns.diverging_palette(10, 130, n=256).as_hex()\n",
        "    colors = ['black'] + colors\n",
        "    cmap = ListedColormap(colors)\n",
        "\n",
        "    plt.figure(figsize=(10, 10))\n",
        "    sns.heatmap(pivot_table, cmap=cmap, center=0, cbar=False)\n",
        "    plt.title(title)\n",
        "    plt.xlabel('Minute')\n",
        "    plt.ylabel('Hour')\n",
        "    plt.savefig(filename, format='png')\n",
        "    plt.close()\n",
        "\n",
        "def plot_heatmap_all_data(df, filename):\n",
        "    df['EntryHour'] = df['EntryTime'].dt.hour\n",
        "    df['EntryMinute'] = df['EntryTime'].dt.minute\n",
        "    pivot_table = df.pivot_table(index='EntryHour', columns='EntryMinute', values='ProfitLossAfterSlippage', aggfunc='sum', fill_value=0)\n",
        "\n",
        "    colors = sns.diverging_palette(10, 130, n=256).as_hex()\n",
        "    colors = ['black'] + colors\n",
        "    cmap = ListedColormap(colors)\n",
        "\n",
        "    plt.figure(figsize=(5, 5))\n",
        "    sns.heatmap(pivot_table, cmap=cmap, center=0)\n",
        "    plt.title('Profit and Loss per Entry Time (Hour and Minute) - All Data')\n",
        "    plt.xlabel('Minute')\n",
        "    plt.ylabel('Hour')\n",
        "    plt.savefig(filename, format='png')\n",
        "    plt.close()\n",
        "\n",
        "df = pd.read_csv(\"Trades.csv\")\n",
        "df['EntryTime'] = pd.to_datetime(df['EntryTime'])\n",
        "df['EntryDate'] = df['EntryTime'].dt.date\n",
        "\n",
        "#days_list = [90, 60, 59, 58, 57, 56, 55, 54, 53, 52, 51, 50, 49, 48, 47, 46, 45, 44, 43, 42, 41, 40, 39, 38, 37, 36, 35, 34, 33, 32, 31, 30, 29, 28, 27, 26, 25, 24, 23, 22, 21, 20, 19, 18, 17, 16, 15, 14, 13, 12, 11, 10, 9, 8, 7, 6, 5, 4, 3, 2, 1]\n",
        "#days_list = [23, 12, 7]\n",
        "days_list = [90, 60, 45, 30, 20, 15, 10, 5]\n",
        "\n",
        "# Start of HTML content and Table of Contents\n",
        "html_content = \"\"\"\n",
        "<h1>Table of Contents</h1>\n",
        "<ol>\n",
        "    <li><a href=\"#all_data\">Best times to enter a trade for all data</a></li>\n",
        "    <li><a href=\"#profit_per_day\">Profit per day of the week</a></li>\n",
        "\"\"\"\n",
        "\n",
        "for days in days_list:\n",
        "    html_content += f\"<li><a href='#heatmap_{days}_days'>Best times to enter a trade for the last {days} days</a></li>\\n\"\n",
        "\n",
        "html_content += \"</ol>\"\n",
        "\n",
        "# Actual content\n",
        "for days in days_list:\n",
        "    df_filtered = filter_data(df, days)\n",
        "    filename = f'heatmap_{days}_days.png'\n",
        "    plot_heatmap(df_filtered, f'Profit and Loss per Entry Time (Hour and Minute) - Last {days} Days', filename)\n",
        "    html_content += f\"<h3 id='heatmap_{days}_days'>Best times to enter a trade for the last {days} days:</h3>\\n\"\n",
        "    html_content += f\"<img src='{filename}' alt='Heatmap for {days} days'><br>\\n\"\n",
        "    html_content += f\"<table>{rank_trading_times(df_filtered).to_frame().reset_index().to_html(index=False)}</table>\\n\"\n",
        "    top_times, avg_profit_per_day = top_trading_times_and_avg_profit_per_day(df_filtered, 11)\n",
        "    html_content += f\"<h3>Top {11} times to enter a trade in the last {days} days, sorted by time:</h3>\\n\"\n",
        "    html_content += f\"<p>{top_times}</p>\\n\"\n",
        "    html_content += f\"<p>Average profit per trading day: {avg_profit_per_day}</p>\\n\"\n",
        "    html_content += f\"<hr>\\n\"\n",
        "    #print(f\"Top {11} times to enter a trade in the last {days} days, sorted by time:\\n\")\n",
        "    #print(f\"{top_times}\\n\")\n",
        "    html_content += f\"<p>Average profit per trading day: {avg_profit_per_day}</p>\\n\"\n",
        "    #print(f\"<p>Average profit per {days} trading day: {avg_profit_per_day}</p>\\n\")\n",
        "    html_content += f\"<hr>\\n\"\n",
        "\n",
        "filename = 'heatmap_all_data.png'\n",
        "plot_heatmap_all_data(df, filename)\n",
        "html_content += \"<h3 id='all_data'>Best times to enter a trade for all data:</h3>\\n\"\n",
        "html_content += f\"<img src='{filename}' alt='Heatmap for all data'><br>\\n\"\n",
        "html_content += f\"<table>{rank_trading_times(df).to_frame().reset_index().to_html(index=False)}</table>\\n\"\n",
        "\n",
        "df['EntryDayOfWeek'] = df['EntryTime'].dt.dayofweek\n",
        "days_of_week = ['Monday', 'Tuesday', 'Wednesday', 'Thursday', 'Friday', 'Saturday', 'Sunday']\n",
        "df['EntryDayOfWeek'] = df['EntryDayOfWeek'].apply(lambda x: days_of_week[x])\n",
        "\n",
        "html_content += \"<h3 id='profit_per_day'>Profit per day of the week:</h3>\\n\"\n",
        "html_content += f\"<p>{rank_trading_days(df)}</p>\\n\"\n"
      ]
    },
    {
      "cell_type": "code",
      "source": [
        "pivot_table = df.pivot_table(index='EntryDate', columns='EntryHourMinute', values='ProfitLossAfterSlippage', aggfunc='sum', fill_value=0)\n",
        "\n",
        "colors = sns.diverging_palette(10, 130, n=256).as_hex()\n",
        "colors = ['black'] + colors\n",
        "cmap = ListedColormap(colors)\n",
        "\n",
        "plt.figure(figsize=(20, 20))\n",
        "sns.heatmap(pivot_table, cmap=cmap, center=0)\n",
        "plt.title('Profit and Loss per Entry Time (Hour and Minute)')\n",
        "plt.xlabel('Time')\n",
        "plt.ylabel('Date')\n",
        "plt.savefig(\"heatmap_date_time.png\")\n",
        "plt.close()\n",
        "\n",
        "html_content += f\"<h3>Heatmap of Profit and Loss per Entry Date and Time:</h3>\\n\"\n",
        "html_content += f\"<img src='heatmap_date_time.png' alt='Heatmap of Profit and Loss per Entry Date and Time'><br>\\n\""
      ],
      "metadata": {
        "id": "ey086AVGkr5G"
      },
      "execution_count": null,
      "outputs": []
    },
    {
      "cell_type": "code",
      "source": [
        "pivot_table = df.pivot_table(index='EntryDayOfWeek', columns='EntryHourMinute', values='ProfitLossAfterSlippage', aggfunc='sum', fill_value=0)\n",
        "\n",
        "colors = sns.diverging_palette(10, 130, n=256).as_hex()\n",
        "colors = ['black'] + colors\n",
        "cmap = ListedColormap(colors)\n",
        "\n",
        "plt.figure(figsize=(20, 20))\n",
        "sns.heatmap(pivot_table, cmap=cmap, center=0)\n",
        "plt.title('Profit and Loss per Entry Time (Hour and Minute)')\n",
        "plt.xlabel('Time')\n",
        "plt.ylabel('Day of Week')\n",
        "plt.savefig(\"heatmap_dayofweek_time.png\")\n",
        "plt.close()\n",
        "\n",
        "html_content += f\"<h3>Heatmap of Profit and Loss per Entry Day of Week and Time:</h3>\\n\"\n",
        "html_content += f\"<img src='heatmap_dayofweek_time.png' alt='Heatmap of Profit and Loss per Entry Day of Week and Time'><br>\\n\"\n",
        "\n",
        "with open('heatmap_report.html', 'w') as f:\n",
        "    f.write(html_content)\n",
        "\n",
        "!zip archive.zip *.png *.html"
      ],
      "metadata": {
        "id": "boBg2mDaocyl",
        "outputId": "126992cc-fab3-42f8-8744-a55aa4431722",
        "colab": {
          "base_uri": "https://localhost:8080/"
        }
      },
      "execution_count": null,
      "outputs": [
        {
          "output_type": "stream",
          "name": "stdout",
          "text": [
            "  adding: heatmap_10_days.png (deflated 32%)\n",
            "  adding: heatmap_15_days.png (deflated 34%)\n",
            "  adding: heatmap_20_days.png (deflated 34%)\n",
            "  adding: heatmap_30_days.png (deflated 33%)\n",
            "  adding: heatmap_45_days.png (deflated 34%)\n",
            "  adding: heatmap_5_days.png (deflated 33%)\n",
            "  adding: heatmap_60_days.png (deflated 33%)\n",
            "  adding: heatmap_90_days.png (deflated 34%)\n",
            "  adding: heatmap_all_data.png (deflated 15%)\n",
            "  adding: heatmap_date_time.png (deflated 33%)\n",
            "  adding: heatmap_dayofweek_time.png (deflated 44%)\n",
            "  adding: heatmap_report.html (deflated 89%)\n"
          ]
        }
      ]
    }
  ]
}
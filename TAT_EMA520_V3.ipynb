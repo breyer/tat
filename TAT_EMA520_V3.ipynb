{
  "nbformat": 4,
  "nbformat_minor": 0,
  "metadata": {
    "colab": {
      "provenance": [],
      "authorship_tag": "ABX9TyNu/JRei94lWjIv07Ky51Oq",
      "include_colab_link": true
    },
    "kernelspec": {
      "name": "python3",
      "display_name": "Python 3"
    },
    "language_info": {
      "name": "python"
    }
  },
  "cells": [
    {
      "cell_type": "markdown",
      "metadata": {
        "id": "view-in-github",
        "colab_type": "text"
      },
      "source": [
        "<a href=\"https://colab.research.google.com/github/breyer/tat/blob/main/TAT_EMA520_V3.ipynb\" target=\"_parent\"><img src=\"https://colab.research.google.com/assets/colab-badge.svg\" alt=\"Open In Colab\"/></a>"
      ]
    },
    {
      "cell_type": "markdown",
      "source": [
        "**Data is based on the following backtest for the period from 1/1/2023 to 6/7/2023:**\n",
        "\n",
        "https://tradeautomationtoolbox.com/byob-ticks/?save=eLwvpkg\n",
        "\n",
        "I would love to get feedback ...\n",
        "\n"
      ],
      "metadata": {
        "id": "s-mchuKTEmkD"
      }
    },
    {
      "cell_type": "code",
      "execution_count": 1,
      "metadata": {
        "id": "8F_vbCNi737y"
      },
      "outputs": [],
      "source": [
        "import pandas as pd\n",
        "import matplotlib.pyplot as plt\n",
        "import seaborn as sns\n",
        "from matplotlib.colors import ListedColormap\n",
        "\n",
        "def filter_data(df, days):\n",
        "    end_date = df['EntryTime'].max()\n",
        "    start_date = end_date - pd.DateOffset(days=days)\n",
        "    return df.loc[(df['EntryTime'] >= start_date) & (df['EntryTime'] <= end_date)].copy()\n",
        "\n",
        "def rank_trading_days(df):\n",
        "    profit_per_day = df.groupby('EntryDayOfWeek')['ProfitLossAfterSlippage'].sum()*100\n",
        "    return profit_per_day.sort_values(ascending=False)\n",
        "\n",
        "def rank_trading_times(df):\n",
        "    df['EntryHourMinute'] = df['EntryTime'].dt.strftime('%H:%M')\n",
        "    profit_per_time = df.groupby('EntryHourMinute')['ProfitLossAfterSlippage'].sum()*100\n",
        "    return profit_per_time.sort_values(ascending=False)\n",
        "\n",
        "def plot_heatmap(df, title, filename):\n",
        "    df['EntryHour'] = df['EntryTime'].dt.hour\n",
        "    df['EntryMinute'] = df['EntryTime'].dt.minute\n",
        "    pivot_table = df.pivot_table(index='EntryHour', columns='EntryMinute', values='ProfitLossAfterSlippage', aggfunc='sum', fill_value=0)\n",
        "\n",
        "    colors = sns.diverging_palette(10, 130, n=256).as_hex()\n",
        "    colors = ['black'] + colors\n",
        "    cmap = ListedColormap(colors)\n",
        "\n",
        "    plt.figure(figsize=(10, 10))\n",
        "    sns.heatmap(pivot_table, cmap=cmap, center=0, cbar=False)\n",
        "    plt.title(title)\n",
        "    plt.xlabel('Minute')\n",
        "    plt.ylabel('Hour')\n",
        "    plt.savefig(filename, format='png')\n",
        "    plt.close()\n",
        "\n",
        "def plot_heatmap_all_data(df, filename):\n",
        "    df['EntryHour'] = df['EntryTime'].dt.hour\n",
        "    df['EntryMinute'] = df['EntryTime'].dt.minute\n",
        "    pivot_table = df.pivot_table(index='EntryHour', columns='EntryMinute', values='ProfitLossAfterSlippage', aggfunc='sum', fill_value=0)\n",
        "\n",
        "    colors = sns.diverging_palette(10, 130, n=256).as_hex()\n",
        "    colors = ['black'] + colors\n",
        "    cmap = ListedColormap(colors)\n",
        "\n",
        "    plt.figure(figsize=(5, 5))\n",
        "    sns.heatmap(pivot_table, cmap=cmap, center=0)\n",
        "    plt.title('Profit and Loss per Entry Time (Hour and Minute) - All Data')\n",
        "    plt.xlabel('Minute')\n",
        "    plt.ylabel('Hour')\n",
        "    plt.savefig(filename, format='png')\n",
        "    plt.close()\n",
        "\n",
        "df = pd.read_csv(\"Trades.csv\")\n",
        "df['EntryTime'] = pd.to_datetime(df['EntryTime'])\n",
        "df['EntryDate'] = df['EntryTime'].dt.date\n",
        "\n",
        "days_list = [90, 60, 45, 30, 20, 15, 10, 5]\n",
        "\n",
        "html_content = \"\"\n",
        "for days in days_list:\n",
        "    df_filtered = filter_data(df, days)\n",
        "    filename = f'heatmap_{days}_days.png'\n",
        "    plot_heatmap(df_filtered, f'Profit and Loss per Entry Time (Hour and Minute) - Last {days} Days', filename)\n",
        "    html_content += f\"<h3>Best times to enter a trade for the last {days} days:</h3>\\n\"\n",
        "    html_content += f\"<img src='{filename}' alt='Heatmap for {days} days'><br>\\n\"\n",
        "    html_content += f\"<table>{rank_trading_times(df).to_frame().reset_index().to_html(index=False)}</table>\\n\"\n",
        "\n",
        "filename = 'heatmap_all_data.png'\n",
        "plot_heatmap_all_data(df, filename)\n",
        "html_content += \"<h3>Best times to enter a trade for all data:</h3>\\n\"\n",
        "html_content += f\"<img src='{filename}' alt='Heatmap for all data'><br>\\n\"\n",
        "html_content += f\"<table>{rank_trading_times(df).to_frame().reset_index().to_html(index=False)}</table>\\n\"\n",
        "\n",
        "df['EntryDayOfWeek'] = df['EntryTime'].dt.dayofweek\n",
        "days_of_week = ['Monday', 'Tuesday', 'Wednesday', 'Thursday', 'Friday', 'Saturday', 'Sunday']\n",
        "df['EntryDayOfWeek'] = df['EntryDayOfWeek'].apply(lambda x: days_of_week[x])\n",
        "\n",
        "html_content += \"<h3>Profit per day of the week:</h3>\\n\"\n",
        "html_content += f\"<p>{rank_trading_days(df)}</p>\\n\"\n"
      ]
    },
    {
      "cell_type": "code",
      "source": [
        "pivot_table = df.pivot_table(index='EntryDate', columns='EntryHourMinute', values='ProfitLossAfterSlippage', aggfunc='sum', fill_value=0)\n",
        "\n",
        "colors = sns.diverging_palette(10, 130, n=256).as_hex()\n",
        "colors = ['black'] + colors\n",
        "cmap = ListedColormap(colors)\n",
        "\n",
        "plt.figure(figsize=(20, 20))\n",
        "sns.heatmap(pivot_table, cmap=cmap, center=0)\n",
        "plt.title('Profit and Loss per Entry Time (Hour and Minute)')\n",
        "plt.xlabel('Time')\n",
        "plt.ylabel('Date')\n",
        "plt.savefig(\"heatmap_date_time.png\")\n",
        "plt.close()\n",
        "\n",
        "html_content += f\"<h3>Heatmap of Profit and Loss per Entry Date and Time:</h3>\\n\"\n",
        "html_content += f\"<img src='heatmap_date_time.png' alt='Heatmap of Profit and Loss per Entry Date and Time'><br>\\n\""
      ],
      "metadata": {
        "id": "ey086AVGkr5G"
      },
      "execution_count": 2,
      "outputs": []
    },
    {
      "cell_type": "code",
      "source": [
        "pivot_table = df.pivot_table(index='EntryDayOfWeek', columns='EntryHourMinute', values='ProfitLossAfterSlippage', aggfunc='sum', fill_value=0)\n",
        "\n",
        "colors = sns.diverging_palette(10, 130, n=256).as_hex()\n",
        "colors = ['black'] + colors\n",
        "cmap = ListedColormap(colors)\n",
        "\n",
        "plt.figure(figsize=(20, 20))\n",
        "sns.heatmap(pivot_table, cmap=cmap, center=0)\n",
        "plt.title('Profit and Loss per Entry Time (Hour and Minute)')\n",
        "plt.xlabel('Time')\n",
        "plt.ylabel('Day of Week')\n",
        "plt.savefig(\"heatmap_dayofweek_time.png\")\n",
        "plt.close()\n",
        "\n",
        "html_content += f\"<h3>Heatmap of Profit and Loss per Entry Day of Week and Time:</h3>\\n\"\n",
        "html_content += f\"<img src='heatmap_dayofweek_time.png' alt='Heatmap of Profit and Loss per Entry Day of Week and Time'><br>\\n\"\n",
        "\n",
        "with open('heatmap_report.html', 'w') as f:\n",
        "    f.write(html_content)"
      ],
      "metadata": {
        "id": "boBg2mDaocyl"
      },
      "execution_count": 3,
      "outputs": []
    }
  ]
}